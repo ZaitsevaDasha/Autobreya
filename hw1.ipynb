{
 "cells": [
  {
   "cell_type": "markdown",
   "metadata": {},
   "source": [
    "Для выполненения задания в качестве текстов были взяты региональные новости Челябинска, 17 текстов, около 3 тысяч токенов. Первоначальная разметка ключевых слов скорее представляла собой тематические теги, поэтому она была изменена, я удалила те слова, которые не использовались в тексте новости, но описывали его тему. Кроме того, теги были достаточно общими, поэтому я также добавляла дополнительные ключевые слова, например, при новости об открытии центра трансплантации костного мозга в больнице изначально были теги: \"больница\", \"медицина\", \"ЧОКБ\". Я добавила также теги \"трансплантация костного мозга\" и \"пациенты\""
   ]
  },
  {
   "cell_type": "code",
   "execution_count": 201,
   "metadata": {},
   "outputs": [
    {
     "data": {
      "text/html": [
       "<div>\n",
       "<style scoped>\n",
       "    .dataframe tbody tr th:only-of-type {\n",
       "        vertical-align: middle;\n",
       "    }\n",
       "\n",
       "    .dataframe tbody tr th {\n",
       "        vertical-align: top;\n",
       "    }\n",
       "\n",
       "    .dataframe thead th {\n",
       "        text-align: right;\n",
       "    }\n",
       "</style>\n",
       "<table border=\"1\" class=\"dataframe\">\n",
       "  <thead>\n",
       "    <tr style=\"text-align: right;\">\n",
       "      <th></th>\n",
       "      <th>texts</th>\n",
       "      <th>key words</th>\n",
       "    </tr>\n",
       "  </thead>\n",
       "  <tbody>\n",
       "    <tr>\n",
       "      <th>0</th>\n",
       "      <td>Согласно исследованиям онлайн-сервиса рекрутин...</td>\n",
       "      <td>любовь,работа,опрос</td>\n",
       "    </tr>\n",
       "    <tr>\n",
       "      <th>1</th>\n",
       "      <td>17 ноября в мире отмечают День черных кошек. 1...</td>\n",
       "      <td>Карен Даллакян,черный кот,кот</td>\n",
       "    </tr>\n",
       "    <tr>\n",
       "      <th>2</th>\n",
       "      <td>Челябинский археолог Евгений Шиманский, которы...</td>\n",
       "      <td>верблюд,Озерск</td>\n",
       "    </tr>\n",
       "    <tr>\n",
       "      <th>3</th>\n",
       "      <td>Постановка Челябинского театра кукол имени Вол...</td>\n",
       "      <td>премия,куклы,театр,конкурс</td>\n",
       "    </tr>\n",
       "    <tr>\n",
       "      <th>4</th>\n",
       "      <td>В Челябинской области выбрали три лучших школь...</td>\n",
       "      <td>дети,столовая,школа</td>\n",
       "    </tr>\n",
       "  </tbody>\n",
       "</table>\n",
       "</div>"
      ],
      "text/plain": [
       "                                               texts  \\\n",
       "0  Согласно исследованиям онлайн-сервиса рекрутин...   \n",
       "1  17 ноября в мире отмечают День черных кошек. 1...   \n",
       "2  Челябинский археолог Евгений Шиманский, которы...   \n",
       "3  Постановка Челябинского театра кукол имени Вол...   \n",
       "4  В Челябинской области выбрали три лучших школь...   \n",
       "\n",
       "                       key words  \n",
       "0            любовь,работа,опрос  \n",
       "1  Карен Даллакян,черный кот,кот  \n",
       "2                 верблюд,Озерск  \n",
       "3     премия,куклы,театр,конкурс  \n",
       "4            дети,столовая,школа  "
      ]
     },
     "execution_count": 201,
     "metadata": {},
     "output_type": "execute_result"
    }
   ],
   "source": [
    "import pandas as pd\n",
    "texts = pd.read_csv('texts.csv', sep = ';')\n",
    "texts.head()"
   ]
  },
  {
   "cell_type": "markdown",
   "metadata": {},
   "source": [
    "Сделаем препроцессинг текстов:"
   ]
  },
  {
   "cell_type": "code",
   "execution_count": 203,
   "metadata": {},
   "outputs": [],
   "source": [
    "import RAKE\n",
    "import nltk\n",
    "from nltk.corpus import stopwords\n",
    "from pymorphy2 import MorphAnalyzer\n",
    "from pymorphy2.tokenizers import simple_word_tokenize\n",
    "stop = stopwords.words('russian')\n",
    "rake = RAKE.Rake(stop)\n",
    "m = MorphAnalyzer()\n",
    "def normalize_text(text):\n",
    "    lemmas = []\n",
    "    for t in simple_word_tokenize(text):\n",
    "        if t.isalpha():\n",
    "            lemmas.append(m.parse(t)[0].normal_form)\n",
    "    return ' '.join(lemmas)\n",
    "lemm_texts = []\n",
    "for text in texts['texts'].values:\n",
    "    lemm_texts.append(normalize_text(text))"
   ]
  },
  {
   "cell_type": "markdown",
   "metadata": {},
   "source": [
    "### Rake"
   ]
  },
  {
   "cell_type": "code",
   "execution_count": 204,
   "metadata": {},
   "outputs": [],
   "source": [
    "keywords_rake = []\n",
    "for text in lemm_texts:\n",
    "    keywords = rake.run(text, maxWords=3, minFrequency=2)\n",
    "    only_keywords = []\n",
    "    for kw in keywords:\n",
    "        keyword = kw[0]\n",
    "        only_keywords.append(keyword)\n",
    "    keywords_rake.append(only_keywords)"
   ]
  },
  {
   "cell_type": "markdown",
   "metadata": {},
   "source": [
    "### TextRank"
   ]
  },
  {
   "cell_type": "code",
   "execution_count": 205,
   "metadata": {},
   "outputs": [],
   "source": [
    "from summa import keywords\n",
    "keywords_tr = []\n",
    "for text in lemm_texts:\n",
    "    kw = keywords.keywords(text, language='russian', additional_stopwords=stop, scores = True)\n",
    "    top_3 = kw[:3]\n",
    "    only_keywords = []\n",
    "    for kw in top_3:\n",
    "        keyword = kw[0]\n",
    "        only_keywords.append(keyword)\n",
    "    keywords_tr.append(only_keywords)"
   ]
  },
  {
   "cell_type": "markdown",
   "metadata": {},
   "source": [
    "### Tf-idf"
   ]
  },
  {
   "cell_type": "code",
   "execution_count": 206,
   "metadata": {},
   "outputs": [],
   "source": [
    "from sklearn.feature_extraction.text import TfidfVectorizer\n",
    "import numpy as np\n",
    "tfidf_vec = TfidfVectorizer(stop_words=stop)\n",
    "tf_idf = tfidf_vec.fit_transform(lemm_texts).todense()\n",
    "kw_ind = np.argsort(tf_idf, axis = 1)[:,-3:]\n",
    "keywords_tf = []\n",
    "vocab = tfidf_vec.vocabulary_\n",
    "for ind in kw_ind:\n",
    "    keywords = []\n",
    "    for word in vocab:\n",
    "        if vocab[word] in ind:\n",
    "            keywords.append(word)\n",
    "    keywords_tf.append(keywords)"
   ]
  },
  {
   "cell_type": "markdown",
   "metadata": {},
   "source": [
    "Чтобы посчитать качество, нормализуем эталонные ключевые слова:"
   ]
  },
  {
   "cell_type": "code",
   "execution_count": 207,
   "metadata": {},
   "outputs": [],
   "source": [
    "in_kws = []\n",
    "keywords = texts['key words'].values.tolist()\n",
    "for kws in keywords:\n",
    "    kws = kws.split(',')\n",
    "    lemm_kws = []\n",
    "    for kw in kws:\n",
    "        parts = kw.split(' ')\n",
    "        lemmas = []\n",
    "        for part in parts:\n",
    "            lemmas.append(m.parse(part)[0].normal_form)\n",
    "        lemm_kws.append(' '.join(lemmas))\n",
    "    in_kws.append(lemm_kws)"
   ]
  },
  {
   "cell_type": "code",
   "execution_count": 208,
   "metadata": {},
   "outputs": [],
   "source": [
    "def count_metrics(kws):\n",
    "    precisions = []\n",
    "    recalls = []\n",
    "    f_scores = []\n",
    "    for ind, kw in enumerate(kws):\n",
    "        if len(kw) != 0:\n",
    "            in_kw = in_kws[ind]\n",
    "            right_kw = set(kw) & set(in_kw)\n",
    "            precision = len(right_kw) / len(kw)\n",
    "            recall = len(right_kw) / len(in_kw)\n",
    "            if precision != 0 and recall != 0:\n",
    "                f_score = 2 * (precision * recall) / (precision + recall)\n",
    "            else:\n",
    "                f_score = 0\n",
    "        else:\n",
    "            precision = 0\n",
    "            recall = 0\n",
    "            f_score = 0\n",
    "        precisions.append(precision)\n",
    "        recalls.append(recall)\n",
    "        f_scores.append(f_score)\n",
    "    t_precision = sum(precisions) / len(precisions)\n",
    "    t_recall = sum(recalls) / len(recalls)\n",
    "    t_f_scores = sum(f_scores) / len(f_scores)\n",
    "    return t_precision, t_recall, t_f_scores"
   ]
  },
  {
   "cell_type": "markdown",
   "metadata": {},
   "source": [
    "Наилучшее качество у tf-idf:"
   ]
  },
  {
   "cell_type": "code",
   "execution_count": 211,
   "metadata": {},
   "outputs": [
    {
     "name": "stdout",
     "output_type": "stream",
     "text": [
      "Tf-idf precision: 0.3529411764705882 Tf-idf recall: 0.3205882352941176 TF-idf f-score: 0.3323529411764706\n",
      "TextRank precision: 0.17647058823529413 TextRank recall: 0.1715686274509804 TextRank f-score: 0.17198879551820728\n",
      "Rake precision: 0.14705882352941177 Rake recall: 0.053921568627450976 Rake f-score: 0.0784313725490196\n"
     ]
    }
   ],
   "source": [
    "tf_pr, tf_rec, tf_fscore = count_metrics(keywords_tf)\n",
    "tr_pr, tr_rec, tr_fscore = count_metrics(keywords_tr)\n",
    "rake_pr, rake_rec, rake_fscore = count_metrics(keywords_rake)\n",
    "print(f'Tf-idf precision: {tf_pr} Tf-idf recall: {tf_rec} TF-idf f-score: {tf_fscore}')\n",
    "print(f'TextRank precision: {tr_pr} TextRank recall: {tr_rec} TextRank f-score: {tr_fscore}')\n",
    "print(f'Rake precision: {rake_pr} Rake recall: {rake_rec} Rake f-score: {rake_fscore}')"
   ]
  },
  {
   "cell_type": "markdown",
   "metadata": {},
   "source": [
    "Посчитаем качество, отфильтровав нужные ключевые слова с помощью фильтров:"
   ]
  },
  {
   "cell_type": "code",
   "execution_count": 213,
   "metadata": {},
   "outputs": [],
   "source": [
    "from summa import keywords\n",
    "keywords_tr = []\n",
    "for text in lemm_texts:\n",
    "    kws = keywords.keywords(text, language='russian', additional_stopwords=stop, scores = True)\n",
    "    fil_kws = []\n",
    "    for kw in kws:\n",
    "        parts = kw[0].split(' ')\n",
    "        pos = []\n",
    "        for part in parts:\n",
    "            pos.append(m.parse(part)[0].tag.POS)\n",
    "        if pos == ['NOUN'] or pos == ['ADJF', 'NOUN'] or pos == ['NOUN', 'ADJF', 'NOUN']:\n",
    "            fil_kws.append(kw[0])\n",
    "    keywords_tr.append(fil_kws[:3])"
   ]
  },
  {
   "cell_type": "code",
   "execution_count": 214,
   "metadata": {},
   "outputs": [],
   "source": [
    "keywords_rake = []\n",
    "for text in lemm_texts:\n",
    "    keywords = rake.run(text, maxWords=3, minFrequency=2)\n",
    "    fil_kws = []\n",
    "    for kw in keywords:\n",
    "        parts = kw[0].split(' ')\n",
    "        pos = []\n",
    "        for part in parts:\n",
    "            pos.append(m.parse(part)[0].tag.POS)\n",
    "        if pos == ['NOUN'] or pos == ['ADJF', 'NOUN']:\n",
    "            fil_kws.append(kw[0])\n",
    "    keywords_rake.append(fil_kws)"
   ]
  },
  {
   "cell_type": "code",
   "execution_count": 215,
   "metadata": {},
   "outputs": [],
   "source": [
    "kw_ind = np.argsort(tf_idf, axis = 1)\n",
    "keywords_tf = []\n",
    "words = tfidf_vec.get_feature_names_out()\n",
    "for row in kw_ind:\n",
    "    keywords = []\n",
    "    kws = words[row.tolist()]\n",
    "    for kw in kws[0]:\n",
    "        if m.parse(kw)[0].tag.POS == 'NOUN':\n",
    "            keywords.append(kw)\n",
    "    keywords_tf.append(keywords[-3:])"
   ]
  },
  {
   "cell_type": "markdown",
   "metadata": {},
   "source": [
    "Качество немного выросло для всех трех способов:"
   ]
  },
  {
   "cell_type": "code",
   "execution_count": 216,
   "metadata": {},
   "outputs": [
    {
     "name": "stdout",
     "output_type": "stream",
     "text": [
      "Tf-idf precision: 0.392156862745098 Tf-idf recall: 0.3598039215686274 TF-idf f-score: 0.37156862745098035\n",
      "TextRank precision: 0.18627450980392157 TextRank recall: 0.1715686274509804 TextRank f-score: 0.17787114845938376\n",
      "Rake precision: 0.17647058823529413 Rake recall: 0.053921568627450976 Rake f-score: 0.08235294117647059\n"
     ]
    }
   ],
   "source": [
    "tf_pr, tf_rec, tf_fscore = count_metrics(keywords_tf)\n",
    "tr_pr, tr_rec, tr_fscore = count_metrics(keywords_tr)\n",
    "rake_pr, rake_rec, rake_fscore = count_metrics(keywords_rake)\n",
    "print(f'Tf-idf precision: {tf_pr} Tf-idf recall: {tf_rec} TF-idf f-score: {tf_fscore}')\n",
    "print(f'TextRank precision: {tr_pr} TextRank recall: {tr_rec} TextRank f-score: {tr_fscore}')\n",
    "print(f'Rake precision: {rake_pr} Rake recall: {rake_rec} Rake f-score: {rake_fscore}')"
   ]
  }
 ],
 "metadata": {
  "kernelspec": {
   "display_name": "Python 3.10.8 64-bit",
   "language": "python",
   "name": "python3"
  },
  "language_info": {
   "codemirror_mode": {
    "name": "ipython",
    "version": 3
   },
   "file_extension": ".py",
   "mimetype": "text/x-python",
   "name": "python",
   "nbconvert_exporter": "python",
   "pygments_lexer": "ipython3",
   "version": "3.10.8"
  },
  "orig_nbformat": 4,
  "vscode": {
   "interpreter": {
    "hash": "6d14f91597336588c429f58aaac29838098a40a03688d6438025d1510ae4a0cf"
   }
  }
 },
 "nbformat": 4,
 "nbformat_minor": 2
}
